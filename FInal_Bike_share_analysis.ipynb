{
 "cells": [
  {
   "cell_type": "code",
   "execution_count": null,
   "metadata": {},
   "outputs": [],
   "source": [
    "import time\n",
    "import pandas as pd\n",
    "import numpy as np\n",
    "\n",
    "CITY_DATA = { 'chicago': 'chicago.csv',\n",
    "              'new york city': 'new_york_city.csv',\n",
    "              'washington': 'washington.csv' }\n",
    "\n",
    "MONTHS = ['january', 'february', 'march', 'april', 'may', 'june']\n",
    "WEEKDAYS = ['monday', 'tuesday', 'wednesday', 'thursday', 'friday', 'saturday', 'sunday']\n",
    "\n",
    "\n",
    "LINE_LEN = 90\n",
    "\n",
    "# print long string with repeating char, used to separate sections of output\n",
    "print_line = lambda char: print(char[0] * LINE_LEN)"
   ]
  },
  {
   "cell_type": "code",
   "execution_count": null,
   "metadata": {},
   "outputs": [],
   "source": []
  },
  {
   "cell_type": "code",
   "execution_count": null,
   "metadata": {},
   "outputs": [],
   "source": [
    "def get_filters():\n",
    "    \"\"\"\n",
    "    Asks user to specify a city, month, and day to analyze.\n",
    "    Returns:\n",
    "        (str) city - name of the city to analyze\n",
    "        (str) month - name of the month to filter by, or \"all\" to apply no month filter\n",
    "        (str) day - name of the day of week to filter by, or \"all\" to apply no day filter\n",
    "    \"\"\"\n",
    "    print_line('=')\n",
    "    print('\\n  Hello! Let\\'s explore some US bikeshare data!\\n')\n",
    "    # get user input for city (chicago, new york city, washington).\n",
    "    #  HINT: Use a while loop to handle invalid inputs\n",
    "\n",
    "    city = get_filter_city()\n",
    "\n",
    "    # get user input for month (all, january, february, ... , june)\n",
    "    month = get_filter_month()\n",
    "\n",
    "    # get user input for day of week (all, monday, tuesday, ... sunday)\n",
    "    day = get_filter_day()\n",
    "\n",
    "    return city, month, day\n"
   ]
  },
  {
   "cell_type": "code",
   "execution_count": null,
   "metadata": {},
   "outputs": [],
   "source": [
    "def get_filter_day():\n",
    "    \"\"\"\n",
    "    Asks user to specify a day to filter on, or choose all.\n",
    "    Returns:\n",
    "        (str) day - day of the week to filter by, or \"all\" for no filter\n",
    "    \"\"\"\n",
    "    while True:\n",
    "        try:\n",
    "            day = input(\"    Enter the day with Monday=1, Sunday=7 or 'a' for all:  \")\n",
    "        except:\n",
    "            print(\"        ---->>  Valid input:  1 - 7, a\")\n",
    "            continue\n",
    "\n",
    "        if day == 'a':\n",
    "            day = 'all'\n",
    "            break\n",
    "        elif day in {'1', '2', '3', '4', '5', '6', '7'}:\n",
    "            # reassign the string name for the day\n",
    "            day = WEEKDAYS[int(day) - 1]    # here we MUST -1 to get correct index\n",
    "            break\n",
    "        else:\n",
    "            continue\n",
    "\n",
    "    return day\n"
   ]
  },
  {
   "cell_type": "code",
   "execution_count": null,
   "metadata": {},
   "outputs": [],
   "source": [
    "def get_filter_city():\n",
    "    \"\"\"\n",
    "    Asks user to specify a city.\n",
    "    Returns:\n",
    "        (str) city - name of the city to analyze\n",
    "    \"\"\"\n",
    "    # build and display the list of cities for which we have datasets\n",
    "    cities_list = []\n",
    "    num_cities = 0\n",
    "\n",
    "    for a_city in CITY_DATA:\n",
    "        cities_list.append(a_city)\n",
    "        num_cities += 1\n",
    "        print('        {0:20}. {1}'.format(num_cities, a_city.title()))\n",
    "\n",
    "    # ask user to input a number for a city from the list; easier for user than string input\n",
    "    while True:\n",
    "        try:\n",
    "            city_num = int(input(\"\\n    Enter a number for the city (1 - {}):  \".format(len(cities_list))))\n",
    "        except:\n",
    "            continue\n",
    "\n",
    "        if city_num in range(1, len(cities_list)+1):\n",
    "            break\n",
    "\n",
    "    # get the city's name in string format from the list\n",
    "    city = cities_list[city_num - 1]\n",
    "    return city\n"
   ]
  },
  {
   "cell_type": "code",
   "execution_count": null,
   "metadata": {},
   "outputs": [],
   "source": [
    "def get_filter_month():\n",
    "    \"\"\"\n",
    "    Asks user to specify a month to filter on, or choose all.\n",
    "    Returns:\n",
    "        (str) month - name of the month to filter by, or \"all\" for no filter\n",
    "    \"\"\"\n",
    "    while True:\n",
    "        try:\n",
    "            month = input(\"    Enter the month with January=1, June=6 or 'a' for all:  \")\n",
    "        except:\n",
    "            print(\"        ---->>  Valid input:  1 - 6, a\")\n",
    "            continue\n",
    "\n",
    "        if month == 'a':\n",
    "            month = 'all'\n",
    "            break\n",
    "        elif month in {'1', '2', '3', '4', '5', '6'}:\n",
    "            # reassign the string name for the month\n",
    "            month = MONTHS[int(month) - 1]\n",
    "            break\n",
    "        else:\n",
    "            continue\n",
    "    \n",
    "    return month"
   ]
  },
  {
   "cell_type": "code",
   "execution_count": null,
   "metadata": {},
   "outputs": [],
   "source": [
    "def load_data(city, month, day):\n",
    "    \"\"\"\n",
    "    Loads data for the specified city and filters by month and day if applicable.\n",
    "    Args:\n",
    "        (str) city - name of the city to analyze\n",
    "        (str) month - name of the month to filter by, or \"all\" to apply no month filter\n",
    "        (str) day - name of the day of week to filter by, or \"all\" to apply no day filter\n",
    "    Returns:\n",
    "        df - Pandas DataFrame containing city data filtered by month and day\n",
    "    \"\"\"\n",
    "    start_time = time.time()\n",
    "\n",
    "    # load data file into a dataframe\n",
    "    df = pd.read_csv(CITY_DATA[city])\n",
    "\n",
    "    # convert the Start Time column to datetime\n",
    "    df['Start Time'] = pd.to_datetime(df['Start Time'], errors='coerce')\n",
    "\n",
    "    # extract month, day of week and hour from Start Time to create new columns\n",
    "    df['month'] = df['Start Time'].dt.month                 # range (1-12)\n",
    "    df['day_of_week'] = df['Start Time'].dt.dayofweek       # range (0-6)\n",
    "    df['hour'] = df['Start Time'].dt.hour                   # range (0-23)\n",
    "\n",
    "    init_total_rides = len(df)\n",
    "    filtered_rides = init_total_rides    # initially\n",
    "\n",
    "    # filter by month if applicable\n",
    "    if month != 'all':\n",
    "        # use the index of the MONTHS list to get the corresponding int\n",
    "        month_i = MONTHS.index(month) + 1     # index() returns 0-based, so +1\n",
    "    \n",
    "        # filter by month to create the new dataframe\n",
    "        df = df[df.month == month_i]\n",
    "        month = month.title()\n",
    "\n",
    "    # filter by day of week if applicable\n",
    "    if day != 'all':\n",
    "        # use the index of the WEEKDAYS list to get the corresponding int\n",
    "        day_i = WEEKDAYS.index(day)         # index() returns 0-based, matches df\n",
    "\n",
    "        # filter by day of week to create the new dataframe\n",
    "        df = df[df.day_of_week == day_i]\n",
    "        day = day.title()\n",
    "\n",
    "    print_processing_time(start_time)\n",
    "\n",
    "    filter_summary(city.title(), month, day, init_total_rides, df )\n",
    "\n",
    "    return df\n"
   ]
  },
  {
   "cell_type": "code",
   "execution_count": null,
   "metadata": {},
   "outputs": [],
   "source": [
    "def print_processing_time(start_time):\n",
    "    time_str = \"[... %s seconds]\" % round((time.time() - start_time), 3)\n",
    "    print(time_str.rjust(LINE_LEN))\n",
    "    print_line('-')"
   ]
  },
  {
   "cell_type": "code",
   "execution_count": null,
   "metadata": {},
   "outputs": [],
   "source": [
    "def filter_summary(city, month, day, init_total_rides, df):\n",
    "    \"\"\"\n",
    "    Displays selected city, filters chosen, and simple stats on dataset.\n",
    "    Args:\n",
    "        (str) city - name of the city to analyze\n",
    "        (str) month - name of the month to filter by, or \"all\" to apply no month filter\n",
    "        (str) day - name of the day of week to filter by, or \"all\" to apply no day filter\n",
    "        (int) init_total_rides - total number of rides in selected city before filter\n",
    "        (dataframe) df - filtered dataset\n",
    "    \"\"\"\n",
    "    start_time = time.time()\n",
    "\n",
    "    filtered_rides = len(df)\n",
    "    num_stations_start = len(df['Start Station'].unique())\n",
    "    num_stations_end = len(df['End Station'].unique())\n",
    "\n",
    "    print('  Gathering statistics for:      ', city)\n",
    "    print('    Filters (month, day):        ', month, ', ', day)\n",
    "    print('    Total rides in dataset:      ', init_total_rides)\n",
    "    print('    Rides in filtered set:       ', filtered_rides)\n",
    "    print('    Number of start stations:    ', num_stations_start)\n",
    "    print('    Number of end stations:      ', num_stations_end)\n",
    "\n",
    "    print_processing_time(start_time)"
   ]
  },
  {
   "cell_type": "code",
   "execution_count": null,
   "metadata": {},
   "outputs": [],
   "source": [
    "def time_stats(df):\n",
    "    \"\"\"Displays statistics on the most frequent times of travel.\"\"\"\n",
    "\n",
    "    print('  Most Frequent Times of Travel...')\n",
    "    start_time = time.time()\n",
    "\n",
    "    # display the most common month; convert to string\n",
    "    month = MONTHS[df['month'].mode()[0] - 1].title()\n",
    "    print('    Month:               ', month)\n",
    "\n",
    "    # display the most common day of week\n",
    "    common_day = df['day_of_week'].mode()[0]        # day in df is 0-based\n",
    "    common_day = WEEKDAYS[common_day].title()\n",
    "    print('    Day of the week:     ', common_day)\n",
    "\n",
    "    # display the most common start hour; convert to 12-hour string\n",
    "    hour = hour_12_str(df['hour'].mode()[0])\n",
    "    print('    Start hour:          ', hour)\n",
    "\n",
    "    print_processing_time(start_time)"
   ]
  },
  {
   "cell_type": "code",
   "execution_count": null,
   "metadata": {},
   "outputs": [],
   "source": [
    "def hour_12_str(hour):\n",
    "    \"\"\"\n",
    "    Converts an int hour time to string format with PM or AM.\n",
    "    Args:\n",
    "        (int) hour - int representing an hour\n",
    "    Returns:\n",
    "        (str) str_hour - string with time in 12 hour format\n",
    "    \"\"\"\n",
    "\n",
    "    if hour == 0:\n",
    "        str_hour = '12 AM'\n",
    "    elif hour == 12:\n",
    "        str_hour = '12 PM'\n",
    "    else:\n",
    "        str_hour = '{} AM'.format(hour) if hour < 12 else '{} PM'.format(hour - 12)\n",
    "\n",
    "    return str_hour\n"
   ]
  },
  {
   "cell_type": "code",
   "execution_count": null,
   "metadata": {},
   "outputs": [],
   "source": [
    "def station_stats(df):\n",
    "    \"\"\"Displays statistics on the most popular stations and trip.\"\"\"\n",
    "\n",
    "    print('  Most Popular Stations and Trip...')\n",
    "    start_time = time.time()\n",
    "\n",
    "    filtered_rides = len(df)\n",
    "\n",
    "    # display most commonly used start station\n",
    "    start_station = df['Start Station'].mode()[0]\n",
    "    start_station_trips = df['Start Station'].value_counts()[start_station]\n",
    "\n",
    "    print('    Start station:       ', start_station)\n",
    "    print('{0:30}{1}/{2} trips'.format(' ', start_station_trips, filtered_rides))\n",
    "\n",
    "    # display most commonly used end station\n",
    "    end_station = df['End Station'].mode()[0]\n",
    "    end_station_trips = df['End Station'].value_counts()[end_station]\n",
    "\n",
    "    print('    End station:         ', end_station)\n",
    "    print('{0:30}{1}/{2} trips'.format(' ', end_station_trips, filtered_rides))\n",
    "\n",
    "    # display most frequent combination of start station and end station trip\n",
    "    # group the results by start station and end station\n",
    "    df_start_end_combination_gd = df.groupby(['Start Station', 'End Station'])\n",
    "    most_freq_trip_count = df_start_end_combination_gd['Trip Duration'].count().max()\n",
    "    most_freq_trip = df_start_end_combination_gd['Trip Duration'].count().idxmax()\n",
    "\n",
    "    print('    Frequent trip:        {}, {}'.format(most_freq_trip[0], most_freq_trip[1]))\n",
    "    print('{0:30}{1} trips'.format(' ', most_freq_trip_count))\n",
    "\n",
    "    print_processing_time(start_time)"
   ]
  },
  {
   "cell_type": "code",
   "execution_count": null,
   "metadata": {},
   "outputs": [],
   "source": [
    "def trip_duration_stats(df):\n",
    "    \"\"\"Displays statistics on the total and average trip duration.\"\"\"\n",
    "\n",
    "    print('  Trip Duration...')\n",
    "    start_time = time.time()\n",
    "\n",
    "    # display total travel time; cast to int, we don't need fractions of seconds!\n",
    "    total_travel_time = int(df['Trip Duration'].sum())\n",
    "    print('    Total travel time:   ', total_travel_time, 'seconds')\n",
    "    print('                             ', seconds_to_HMS_str(total_travel_time))\n",
    "\n",
    "    # display mean travel time\n",
    "    mean_travel_time = int(df['Trip Duration'].mean())\n",
    "    print('    Mean travel time:    ', mean_travel_time, 'seconds')\n",
    "    print('                             ', seconds_to_HMS_str(mean_travel_time))\n",
    "\n",
    "    print_processing_time(start_time)\n"
   ]
  },
  {
   "cell_type": "code",
   "execution_count": null,
   "metadata": {},
   "outputs": [],
   "source": [
    "def seconds_to_HMS_str(total_seconds):\n",
    "    \"\"\"\n",
    "    Converts number of seconds to human readable string format.\n",
    "    Args:\n",
    "        (int) total_seconds - number of seconds to convert\n",
    "    Returns:\n",
    "        (str) day_hour_str - number of weeks, days, hours, minutes, and seconds\n",
    "    \"\"\"\n",
    "\n",
    "    minutes, seconds = divmod(total_seconds, 60)\n",
    "    hours, minutes = divmod(minutes, 60)\n",
    "    days, hours = divmod(hours, 24)\n",
    "    weeks, days = divmod(days, 7)\n",
    "    \n",
    "    day_hour_str = ''\n",
    "    if weeks > 0:\n",
    "        day_hour_str += '{} weeks, '.format(weeks)\n",
    "    if days > 0:\n",
    "        day_hour_str += '{} days, '.format(days)\n",
    "    if hours > 0:\n",
    "        day_hour_str += '{} hours, '.format(hours)\n",
    "    if minutes > 0:\n",
    "        day_hour_str += '{} minutes, '.format(minutes)\n",
    "\n",
    "    # always show the seconds, even 0 secs when total > 1 minute\n",
    "    if total_seconds > 59:\n",
    "        day_hour_str += '{} seconds'.format(seconds)\n",
    "\n",
    "    return day_hour_str\n"
   ]
  },
  {
   "cell_type": "code",
   "execution_count": null,
   "metadata": {},
   "outputs": [],
   "source": [
    "def user_stats(df):\n",
    "    \"\"\"Displays statistics on bikeshare users.\"\"\"\n",
    "\n",
    "    print('  User Stats...')\n",
    "    start_time = time.time()\n",
    "\n",
    "    # Display counts of user types\n",
    "    user_types = df['User Type'].value_counts()\n",
    "    for idx in range(len(user_types)):\n",
    "        val = user_types[idx]\n",
    "        user_type = user_types.index[idx]\n",
    "        print('    {0:21}'.format((user_type + ':')), val)\n",
    "\n",
    "    # 'Gender' and 'Birth Year' is only available for Chicago and New York City\n",
    "    # Check for these columns before attempting to access them\n",
    "\n",
    "    if 'Gender' in df.columns:\n",
    "        # Display counts of gender\n",
    "        genders = df['Gender'].value_counts()\n",
    "        for idx in range(len(genders)):\n",
    "            val = genders[idx]\n",
    "            gender = genders.index[idx]\n",
    "            print('    {0:21}'.format((gender + ':')), val)\n",
    "\n",
    "    if 'Birth Year' in df.columns:\n",
    "        # Display earliest, most recent, and most common year of birth\n",
    "        print('    Year of Birth...')\n",
    "        print('        Earliest:        ', int(df['Birth Year'].min()))\n",
    "        print('        Most recent:     ', int(df['Birth Year'].max()))\n",
    "        print('        Most common:     ', int(df['Birth Year'].mode()))\n",
    "\n",
    "    print_processing_time(start_time)"
   ]
  },
  {
   "cell_type": "code",
   "execution_count": null,
   "metadata": {},
   "outputs": [],
   "source": [
    "def display_raw_data(df):\n",
    "    \"\"\"\n",
    "    Asks if the user would like to see some lines of data from the filtered dataset.\n",
    "    Displays 5 (show_rows) lines, then asks if they would like to see 5 more.\n",
    "    Continues asking until they say stop.\n",
    "    \"\"\"\n",
    "    show_rows = 5\n",
    "    rows_start = 0\n",
    "    rows_end = show_rows - 1    # use index values for rows\n",
    "\n",
    "    print('\\n    Would you like to see some raw data from the current dataset?')\n",
    "    while True:\n",
    "        raw_data = input('      (y or n):  ')\n",
    "        if raw_data.lower() == 'y':\n",
    "            # display show_rows number of lines, but display to user as starting from row as 1\n",
    "            # e.g. if rows_start = 0 and rows_end = 4, display to user as \"rows 1 to 5\"\n",
    "            print('\\n    Displaying rows {} to {}:'.format(rows_start + 1, rows_end + 1))\n",
    "\n",
    "            print('\\n', df.iloc[rows_start : rows_end + 1])\n",
    "            rows_start += show_rows\n",
    "            rows_end += show_rows\n",
    "\n",
    "            print_line('.')\n",
    "            print('\\n    Would you like to see the next {} rows?'.format(show_rows))\n",
    "            continue\n",
    "        else:\n",
    "            break\n"
   ]
  },
  {
   "cell_type": "code",
   "execution_count": null,
   "metadata": {},
   "outputs": [],
   "source": [
    "def main():\n",
    "    while True:\n",
    "        city, month, day = get_filters()\n",
    "        df = load_data(city, month, day)\n",
    "        \n",
    "        time_stats(df)\n",
    "        station_stats(df)\n",
    "        trip_duration_stats(df)\n",
    "        user_stats(df)\n",
    "        display_raw_data(df)\n",
    "\n",
    "        restart = input('\\n    Would you like to restart? (y or n):  ')\n",
    "        if restart.lower() != 'y':\n",
    "            break\n",
    "\n",
    "\n",
    "if __name__ == \"__main__\":\n",
    "\tmain()"
   ]
  },
  {
   "cell_type": "code",
   "execution_count": null,
   "metadata": {},
   "outputs": [],
   "source": []
  },
  {
   "cell_type": "code",
   "execution_count": null,
   "metadata": {},
   "outputs": [],
   "source": []
  },
  {
   "cell_type": "code",
   "execution_count": null,
   "metadata": {},
   "outputs": [],
   "source": []
  },
  {
   "cell_type": "code",
   "execution_count": null,
   "metadata": {},
   "outputs": [],
   "source": []
  },
  {
   "cell_type": "code",
   "execution_count": null,
   "metadata": {},
   "outputs": [],
   "source": []
  },
  {
   "cell_type": "code",
   "execution_count": null,
   "metadata": {},
   "outputs": [],
   "source": [
    "import pandas as pd\n",
    "df = pd.read_csv('chicago.csv')"
   ]
  },
  {
   "cell_type": "code",
   "execution_count": null,
   "metadata": {},
   "outputs": [],
   "source": [
    "df1 = df[:100000]\n",
    "df1\n"
   ]
  },
  {
   "cell_type": "code",
   "execution_count": null,
   "metadata": {},
   "outputs": [],
   "source": [
    "import numpy as np\n",
    "import matplotlib.pyplot as plt"
   ]
  },
  {
   "cell_type": "code",
   "execution_count": null,
   "metadata": {},
   "outputs": [],
   "source": []
  },
  {
   "cell_type": "code",
   "execution_count": null,
   "metadata": {},
   "outputs": [],
   "source": [
    "df1 = df1.replace(to_replace='Male',value=0)\n"
   ]
  },
  {
   "cell_type": "code",
   "execution_count": null,
   "metadata": {},
   "outputs": [],
   "source": [
    "df1 = df1.replace(to_replace='Female',value=1)"
   ]
  },
  {
   "cell_type": "code",
   "execution_count": null,
   "metadata": {},
   "outputs": [],
   "source": [
    "df1"
   ]
  },
  {
   "cell_type": "code",
   "execution_count": null,
   "metadata": {},
   "outputs": [],
   "source": [
    "#data.Gender.fillna(data.Gender.mean(), inplace=True)"
   ]
  },
  {
   "cell_type": "code",
   "execution_count": null,
   "metadata": {},
   "outputs": [],
   "source": [
    "plt.bar(df1['Trip Duration'], df1['Gender'])"
   ]
  },
  {
   "cell_type": "code",
   "execution_count": null,
   "metadata": {},
   "outputs": [],
   "source": [
    "df1['Gender'].median()"
   ]
  },
  {
   "cell_type": "code",
   "execution_count": null,
   "metadata": {},
   "outputs": [],
   "source": [
    "x = np.array(data)"
   ]
  },
  {
   "cell_type": "code",
   "execution_count": null,
   "metadata": {},
   "outputs": [],
   "source": [
    "np.resize(x())"
   ]
  },
  {
   "cell_type": "code",
   "execution_count": null,
   "metadata": {},
   "outputs": [],
   "source": [
    "a = data(:10000)"
   ]
  },
  {
   "cell_type": "code",
   "execution_count": null,
   "metadata": {},
   "outputs": [],
   "source": [
    "df1['Gender'].replace(np.NaN, df['Gender'].mean()).head()"
   ]
  },
  {
   "cell_type": "code",
   "execution_count": null,
   "metadata": {},
   "outputs": [],
   "source": [
    "df1.dropna(inplace=True)"
   ]
  },
  {
   "cell_type": "code",
   "execution_count": null,
   "metadata": {},
   "outputs": [],
   "source": [
    "df1.isnull().sum()"
   ]
  },
  {
   "cell_type": "code",
   "execution_count": null,
   "metadata": {},
   "outputs": [],
   "source": []
  }
 ],
 "metadata": {
  "kernelspec": {
   "display_name": "Python 3",
   "language": "python",
   "name": "python3"
  },
  "language_info": {
   "codemirror_mode": {
    "name": "ipython",
    "version": 3
   },
   "file_extension": ".py",
   "mimetype": "text/x-python",
   "name": "python",
   "nbconvert_exporter": "python",
   "pygments_lexer": "ipython3",
   "version": "3.7.3"
  }
 },
 "nbformat": 4,
 "nbformat_minor": 2
}
