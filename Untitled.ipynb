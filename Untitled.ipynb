{
 "cells": [
  {
   "cell_type": "code",
   "execution_count": 5,
   "metadata": {},
   "outputs": [
    {
     "ename": "SyntaxError",
     "evalue": "invalid syntax (<ipython-input-5-ab84d8ab69e7>, line 17)",
     "output_type": "error",
     "traceback": [
      "\u001b[0;36m  File \u001b[0;32m\"<ipython-input-5-ab84d8ab69e7>\"\u001b[0;36m, line \u001b[0;32m17\u001b[0m\n\u001b[0;31m    df['hour'] = df[Start Time].dt.hour              #range(0-23)\u001b[0m\n\u001b[0m                             ^\u001b[0m\n\u001b[0;31mSyntaxError\u001b[0m\u001b[0;31m:\u001b[0m invalid syntax\n"
     ]
    }
   ],
   "source": [
    "import pandas as pd\n",
    "import numpy as np\n",
    "city = chicago.csv\n",
    "month = 4\n",
    "day = 1\n",
    "start_time = time.time()\n",
    "    \n",
    "    #load data file into a dataframe\n",
    "df = pd.read_csv(city)\n",
    "    \n",
    "    #convert the start time column into date time\n",
    "df['Start Time'] = pd.to_datetime(df['Start Time '])\n",
    "    \n",
    "    #extract month,day of week and hour from start time to create new columns\n",
    "df['month'] = df['Start Time'].dt.month          #range(1-12)\n",
    "df['day_of_week'] = df['Start Time'].dt.month    #range(0-6)\n",
    "df['hour'] = df[Start Time].dt.hour              #range(0-23)\n",
    "init_total_rides = len(df)\n",
    "filtered_rides = init_total_rides     #actual \n",
    "    \n",
    "    #filter by month if applicable\n",
    "if month != 'all':\n",
    "        #use the index of the MONTHS list to get the corresponding int\n",
    "    month_i = MONTHS.index(month) + 1     #index() return 0-based, so +1\n",
    "        \n",
    "        \n",
    "        #filter by month to create the new datadrame\n",
    "    df = df[df.month == month_i]\n",
    "    month = month.title()\n",
    "        \n",
    "        \n",
    "    #filter by day of week \n",
    "if day != 'all':\n",
    "        # use the index of WEEKDAYS list to get the corresponding int\n",
    "    day_i = WEEKDAYS.index(day)     #index() returns 0-based, maches df\n",
    "        \n",
    "        #filter by day of week to create the new dataframe\n",
    "    df = df[df.day_of_week == day_i]\n",
    "    day = day.title()\n",
    "        \n",
    "    \n",
    "print_processing_time(start_time)\n",
    "    \n",
    "filter_summary(city.title(),month,day,init_total_rides,df)\n",
    "    "
   ]
  },
  {
   "cell_type": "code",
   "execution_count": null,
   "metadata": {},
   "outputs": [],
   "source": []
  }
 ],
 "metadata": {
  "kernelspec": {
   "display_name": "Python 3",
   "language": "python",
   "name": "python3"
  },
  "language_info": {
   "codemirror_mode": {
    "name": "ipython",
    "version": 3
   },
   "file_extension": ".py",
   "mimetype": "text/x-python",
   "name": "python",
   "nbconvert_exporter": "python",
   "pygments_lexer": "ipython3",
   "version": "3.7.3"
  }
 },
 "nbformat": 4,
 "nbformat_minor": 2
}
